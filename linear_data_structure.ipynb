{
 "cells": [
  {
   "cell_type": "code",
   "execution_count": 1,
   "metadata": {},
   "outputs": [
    {
     "name": "stdout",
     "output_type": "stream",
     "text": [
      "integer pair not found with given number\n"
     ]
    }
   ],
   "source": [
    "#Q1. Write a program to find all pairs of an integer array whose sum is equal to a given number?\n",
    "\n",
    "def findPairs(array, sum): \n",
    "    res = []\n",
    "    for integer in array:\n",
    "       \n",
    "        diff = sum- integer\n",
    "        if diff in array:\n",
    "            res.append((diff, integer))\n",
    "         \n",
    "    return res\n",
    "     \n",
    "array_str = input(\"Enter the integer array: \")\n",
    "array = list(map(int, array_str.split()))\n",
    "\n",
    "\n",
    "sum = int(input(\"Enter the number: \"))\n",
    "\n",
    "result = findPairs(array, sum)\n",
    "\n",
    "if result:\n",
    "    print(f\"pairs of integer {sum}:{result}\")\n",
    "else:\n",
    "    print(\"integer pair not found with given number\")"
   ]
  },
  {
   "cell_type": "code",
   "execution_count": 2,
   "metadata": {},
   "outputs": [
    {
     "name": "stdout",
     "output_type": "stream",
     "text": [
      "Original array: [62, 55, 84, 92, 54]\n",
      "Reversed array: [54, 92, 84, 55, 62]\n"
     ]
    }
   ],
   "source": [
    "#Q2. Write a program to reverse an array in place? In place means you cannot create a new array. You have to update the original array.\n",
    "\n",
    "def reverse_array(input_array):\n",
    "    start = 0\n",
    "    end = len(input_array) - 1\n",
    "\n",
    "    while start < end:\n",
    "        \n",
    "        input_array[start], input_array[end] = input_array[end], input_array[start]\n",
    "\n",
    "        start += 1\n",
    "        end -= 1\n",
    "\n",
    "input_array_str = input(\"Enter the integer array: \")\n",
    "input_array = list(map(int ,input_array_str.split()))\n",
    "print(\"Original array:\",input_array)\n",
    "\n",
    "reverse_array(input_array)\n",
    "print(\"Reversed array:\", input_array)"
   ]
  },
  {
   "cell_type": "code",
   "execution_count": 3,
   "metadata": {},
   "outputs": [
    {
     "name": "stdout",
     "output_type": "stream",
     "text": [
      "level , level are not rotation with each other.\n"
     ]
    }
   ],
   "source": [
    "#q3.Write a program to check if two strings are a rotation of each other?\n",
    "\n",
    "def string_rotation(str1, str2):\n",
    "    if len(str1) != len(str2):\n",
    "         return False\n",
    "\n",
    "    string = str1 + str1\n",
    "\n",
    "\n",
    "str1 = input(\"Enter first string: \")\n",
    "str2 = input(\"Enter second string: \")\n",
    "\n",
    "if string_rotation(str1, str2):\n",
    "    print(f\"{str1} , {str2} are rotation with each other.\")\n",
    "else:\n",
    "    print(f\"{str1} , {str2} are not rotation with each other.\")"
   ]
  },
  {
   "cell_type": "code",
   "execution_count": 4,
   "metadata": {},
   "outputs": [
    {
     "name": "stdout",
     "output_type": "stream",
     "text": [
      "First non-repeating character is : k\n"
     ]
    }
   ],
   "source": [
    "# Q4. Write a program to print the first non-repeated character from a string?\n",
    "\n",
    "str = \"krishna\"\n",
    "l = len(str)\n",
    "result = 0\n",
    "for i in range(l):\n",
    "    result = 0\n",
    "    for j in range(l):\n",
    "        if str[i] == str[j] and i != j:\n",
    "            result = 1\n",
    "            break\n",
    "    if result == 0:\n",
    "        print(\"First non-repeating character is :\", str[i])\n",
    "        break\n",
    "\n",
    "if result == 1:\n",
    "    print(\"No non-repeating character\")"
   ]
  },
  {
   "cell_type": "code",
   "execution_count": 25,
   "metadata": {},
   "outputs": [
    {
     "name": "stdout",
     "output_type": "stream",
     "text": [
      "Move disk 1 from A to B\n",
      "Move disk 2 from A to C\n",
      "Move disk 1 from B to C\n",
      "Move disk 3 from A to B\n",
      "Move disk 1 from C to A\n",
      "Move disk 2 from C to B\n",
      "Move disk 1 from A to B\n",
      "Move disk 4 from A to C\n",
      "Move disk 1 from B to C\n",
      "Move disk 2 from B to A\n",
      "Move disk 1 from C to A\n",
      "Move disk 3 from B to C\n",
      "Move disk 1 from A to B\n",
      "Move disk 2 from A to C\n",
      "Move disk 1 from B to C\n"
     ]
    }
   ],
   "source": [
    "# Q5. Read about the Tower of Hanoi algorithm. Write a program to implement it.\n",
    "\n",
    "def tower_of_hanoi(n, dest_rod, to_rod, aux_rod):\n",
    "    if n == 1:\n",
    "        print(f\"Move disk 1 from {dest_rod} to {to_rod}\")\n",
    "        return\n",
    "    tower_of_hanoi(n-1, dest_rod, aux_rod, to_rod)\n",
    "    print(f\"Move disk {n} from {dest_rod} to {to_rod}\")\n",
    "    tower_of_hanoi(n-1, aux_rod, to_rod, dest_rod)\n",
    "\n",
    "\n",
    "number_of_disks = int(input(\"Enter the number of disks: \"))\n",
    "\n",
    "tower_of_hanoi(number_of_disks, 'A', 'C', 'B')"
   ]
  },
  {
   "cell_type": "code",
   "execution_count": 11,
   "metadata": {},
   "outputs": [
    {
     "name": "stdout",
     "output_type": "stream",
     "text": [
      "Prefix :  +AB-CD\n"
     ]
    }
   ],
   "source": [
    "# Q6. Read about infix, prefix, and postfix expressions. Write a program to convert postfix to prefix expression.\n",
    "\n",
    "def isOperator(x):\n",
    "     return x in {'+','-','/','*'}\n",
    " \n",
    "def postToPre(post_exp):\n",
    " \n",
    "    s = []\n",
    "    length = len(post_exp)\n",
    " \n",
    "    for i in range(length):\n",
    " \n",
    "        if (isOperator(post_exp[i])):\n",
    " \n",
    "            op1 = s[-1]\n",
    "            s.pop()\n",
    "            op2 = s[-1]\n",
    "            s.pop()\n",
    " \n",
    "            temp = post_exp[i] + op2 + op1\n",
    " \n",
    "            s.append(temp)\n",
    "        else:\n",
    "            s.append(post_exp[i])\n",
    " \n",
    "    ans = \"\"\n",
    "    for i in s:\n",
    "        ans += i\n",
    "    return ans\n",
    " \n",
    "if __name__ == \"__main__\":\n",
    " \n",
    "    post_exp = \"AB+CD-\"\n",
    "     \n",
    "    print(\"Prefix : \", postToPre(post_exp))"
   ]
  },
  {
   "cell_type": "code",
   "execution_count": 14,
   "metadata": {},
   "outputs": [
    {
     "name": "stdout",
     "output_type": "stream",
     "text": [
      "((2-(3/4))*((5/7)-6))\n"
     ]
    }
   ],
   "source": [
    "# Q7. Write a program to convert prefix expression to infix expression.\n",
    "\n",
    "def prefixToInfix(prefix):\n",
    "    stack = []\n",
    "     \n",
    "    i = len(prefix) - 1\n",
    "    while i >= 0:\n",
    "        if not isOperator(prefix[i]):\n",
    "             \n",
    "            stack.append(prefix[i])\n",
    "            i -= 1\n",
    "        else:\n",
    "           \n",
    "            str = \"(\" + stack.pop() + prefix[i] + stack.pop() + \")\"\n",
    "            stack.append(str)\n",
    "            i -= 1\n",
    "     \n",
    "    return stack.pop()\n",
    " \n",
    "def isOperator(c):\n",
    "    if c == \"*\" or c == \"+\" or c == \"-\" or c == \"/\" or c == \"^\" or c == \"(\" or c == \")\":\n",
    "        return True\n",
    "    else:\n",
    "        return False\n",
    "\n",
    "\n",
    "if __name__==\"__main__\":\n",
    "\n",
    "    float = \"*-2/34-/576\"\n",
    "    print(prefixToInfix(float))"
   ]
  },
  {
   "cell_type": "code",
   "execution_count": 21,
   "metadata": {},
   "outputs": [
    {
     "name": "stdout",
     "output_type": "stream",
     "text": [
      "All brackets are closed .\n"
     ]
    }
   ],
   "source": [
    "# Q8. Write a program to check if all the brackets are closed in a given code snippet.\n",
    "\n",
    "def brackets(code_snippet):\n",
    "    stack = []\n",
    "    opening_brackets = {'(', '[', '{'}\n",
    "    closing_brackets = {')': '(', ']': '[', }\n",
    "\n",
    "    for x in code_snippet:\n",
    "        if x in opening_brackets:\n",
    "            stack.append(x)\n",
    "        elif x in closing_brackets:\n",
    "            if not stack or stack.pop() != closing_brackets[x]:\n",
    "                return False\n",
    "    return  stack\n",
    "\n",
    "code_snippet = input(\"Enter the code snippet: \")\n",
    "\n",
    "if brackets(code_snippet):\n",
    "    print(\"All brackets are closed .\")\n",
    "else:\n",
    "    print(\"Not all brackets are closed.\")\n"
   ]
  },
  {
   "cell_type": "code",
   "execution_count": 27,
   "metadata": {},
   "outputs": [
    {
     "name": "stdout",
     "output_type": "stream",
     "text": [
      "original stack: 9 6 4 8 5\n",
      "reversed stack: 5 8 4 6 9\n"
     ]
    }
   ],
   "source": [
    "# Q9. Write a program to reverse a stack\n",
    "\n",
    "def rev_stack(str1):\n",
    "    stack1 = []\n",
    "    new_string = \"\"\n",
    "\n",
    "    for i in range(len(str1)):\n",
    "        stack1.append(str1[i])\n",
    "        new_string = stack1[-1] + new_string\n",
    "        stack1.pop()\n",
    "    \n",
    "    return new_string\n",
    "    \n",
    "str1 = input(\"Enter the string to reverse\")\n",
    "print(\"original stack:\",str1)\n",
    "print(\"reversed stack:\",rev_stack(str1))"
   ]
  },
  {
   "cell_type": "code",
   "execution_count": 24,
   "metadata": {},
   "outputs": [
    {
     "name": "stdout",
     "output_type": "stream",
     "text": [
      "original stack: [23, 54, 67, 63, 56]\n",
      "smallest number: 23\n"
     ]
    }
   ],
   "source": [
    "# Q10. Write a program to find the smallest number using a stack.\n",
    "\n",
    "def smallest_stack(num):\n",
    "    min_num=num[0]\n",
    "    stack1=[]\n",
    "    for i in num:\n",
    "        if i<=min_num:\n",
    "            min_num = i\n",
    "            stack1.append(i)\n",
    "    return(stack1[-1])\n",
    "    \n",
    "num = list(map(int,(input(\"Enter numbers of list seperated by space\").split())))\n",
    "print(\"original stack:\",num)\n",
    "print(\"smallest number:\",min(num))"
   ]
  }
 ],
 "metadata": {
  "kernelspec": {
   "display_name": "Python 3",
   "language": "python",
   "name": "python3"
  },
  "language_info": {
   "codemirror_mode": {
    "name": "ipython",
    "version": 3
   },
   "file_extension": ".py",
   "mimetype": "text/x-python",
   "name": "python",
   "nbconvert_exporter": "python",
   "pygments_lexer": "ipython3",
   "version": "3.12.1"
  }
 },
 "nbformat": 4,
 "nbformat_minor": 2
}
